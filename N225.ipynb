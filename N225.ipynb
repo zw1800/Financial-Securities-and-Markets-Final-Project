{
 "cells": [
  {
   "cell_type": "code",
   "execution_count": 11,
   "metadata": {},
   "outputs": [],
   "source": [
    "import pandas as pd \n",
    "import yfinance as yf"
   ]
  },
  {
   "cell_type": "code",
   "execution_count": 12,
   "metadata": {},
   "outputs": [],
   "source": [
    "df_N225 = yf.download('^N225', \n",
    "                       start='2015-01-01', \n",
    "                       end='2019-12-31',\n",
    "                       progress=False)"
   ]
  },
  {
   "cell_type": "code",
   "execution_count": 13,
   "metadata": {},
   "outputs": [
    {
     "data": {
      "text/html": [
       "<div>\n",
       "<style scoped>\n",
       "    .dataframe tbody tr th:only-of-type {\n",
       "        vertical-align: middle;\n",
       "    }\n",
       "\n",
       "    .dataframe tbody tr th {\n",
       "        vertical-align: top;\n",
       "    }\n",
       "\n",
       "    .dataframe thead th {\n",
       "        text-align: right;\n",
       "    }\n",
       "</style>\n",
       "<table border=\"1\" class=\"dataframe\">\n",
       "  <thead>\n",
       "    <tr style=\"text-align: right;\">\n",
       "      <th></th>\n",
       "      <th>Open</th>\n",
       "      <th>High</th>\n",
       "      <th>Low</th>\n",
       "      <th>Close</th>\n",
       "      <th>Adj Close</th>\n",
       "      <th>Volume</th>\n",
       "    </tr>\n",
       "    <tr>\n",
       "      <th>Date</th>\n",
       "      <th></th>\n",
       "      <th></th>\n",
       "      <th></th>\n",
       "      <th></th>\n",
       "      <th></th>\n",
       "      <th></th>\n",
       "    </tr>\n",
       "  </thead>\n",
       "  <tbody>\n",
       "    <tr>\n",
       "      <th>2019-12-24</th>\n",
       "      <td>23839.179688</td>\n",
       "      <td>23853.560547</td>\n",
       "      <td>23796.349609</td>\n",
       "      <td>23830.580078</td>\n",
       "      <td>23830.580078</td>\n",
       "      <td>37900000</td>\n",
       "    </tr>\n",
       "    <tr>\n",
       "      <th>2019-12-25</th>\n",
       "      <td>23813.589844</td>\n",
       "      <td>23824.849609</td>\n",
       "      <td>23782.869141</td>\n",
       "      <td>23782.869141</td>\n",
       "      <td>23782.869141</td>\n",
       "      <td>31600000</td>\n",
       "    </tr>\n",
       "    <tr>\n",
       "      <th>2019-12-26</th>\n",
       "      <td>23787.699219</td>\n",
       "      <td>23931.509766</td>\n",
       "      <td>23775.400391</td>\n",
       "      <td>23924.919922</td>\n",
       "      <td>23924.919922</td>\n",
       "      <td>40300000</td>\n",
       "    </tr>\n",
       "    <tr>\n",
       "      <th>2019-12-27</th>\n",
       "      <td>23953.750000</td>\n",
       "      <td>23967.179688</td>\n",
       "      <td>23837.720703</td>\n",
       "      <td>23837.720703</td>\n",
       "      <td>23837.720703</td>\n",
       "      <td>44800000</td>\n",
       "    </tr>\n",
       "    <tr>\n",
       "      <th>2019-12-30</th>\n",
       "      <td>23770.929688</td>\n",
       "      <td>23782.490234</td>\n",
       "      <td>23656.619141</td>\n",
       "      <td>23656.619141</td>\n",
       "      <td>23656.619141</td>\n",
       "      <td>41600000</td>\n",
       "    </tr>\n",
       "  </tbody>\n",
       "</table>\n",
       "</div>"
      ],
      "text/plain": [
       "                    Open          High           Low         Close  \\\n",
       "Date                                                                 \n",
       "2019-12-24  23839.179688  23853.560547  23796.349609  23830.580078   \n",
       "2019-12-25  23813.589844  23824.849609  23782.869141  23782.869141   \n",
       "2019-12-26  23787.699219  23931.509766  23775.400391  23924.919922   \n",
       "2019-12-27  23953.750000  23967.179688  23837.720703  23837.720703   \n",
       "2019-12-30  23770.929688  23782.490234  23656.619141  23656.619141   \n",
       "\n",
       "               Adj Close    Volume  \n",
       "Date                                \n",
       "2019-12-24  23830.580078  37900000  \n",
       "2019-12-25  23782.869141  31600000  \n",
       "2019-12-26  23924.919922  40300000  \n",
       "2019-12-27  23837.720703  44800000  \n",
       "2019-12-30  23656.619141  41600000  "
      ]
     },
     "execution_count": 13,
     "metadata": {},
     "output_type": "execute_result"
    }
   ],
   "source": [
    "df_N225.tail()"
   ]
  },
  {
   "cell_type": "code",
   "execution_count": 14,
   "metadata": {},
   "outputs": [],
   "source": [
    "#convert to dollars\n",
    "data = df_N225['Close']*0.0073"
   ]
  },
  {
   "cell_type": "code",
   "execution_count": 15,
   "metadata": {},
   "outputs": [],
   "source": [
    "#Get St/S0\n",
    "data = data/data[0]"
   ]
  },
  {
   "cell_type": "code",
   "execution_count": 16,
   "metadata": {},
   "outputs": [
    {
     "data": {
      "text/plain": [
       "Date\n",
       "2015-01-05    1.000000\n",
       "2015-01-06    0.969813\n",
       "2015-01-07    0.969936\n",
       "2015-01-08    0.986121\n",
       "2015-01-09    0.987881\n",
       "                ...   \n",
       "2019-12-24    1.368888\n",
       "2019-12-25    1.366148\n",
       "2019-12-26    1.374307\n",
       "2019-12-27    1.369298\n",
       "2019-12-30    1.358896\n",
       "Name: Close, Length: 1223, dtype: float64"
      ]
     },
     "execution_count": 16,
     "metadata": {},
     "output_type": "execute_result"
    }
   ],
   "source": [
    "data"
   ]
  }
 ],
 "metadata": {
  "kernelspec": {
   "display_name": "Python 3",
   "language": "python",
   "name": "python3"
  },
  "language_info": {
   "codemirror_mode": {
    "name": "ipython",
    "version": 3
   },
   "file_extension": ".py",
   "mimetype": "text/x-python",
   "name": "python",
   "nbconvert_exporter": "python",
   "pygments_lexer": "ipython3",
   "version": "3.8.5"
  }
 },
 "nbformat": 4,
 "nbformat_minor": 4
}
